{
 "cells": [
  {
   "cell_type": "code",
   "execution_count": 7,
   "metadata": {},
   "outputs": [
    {
     "name": "stdout",
     "output_type": "stream",
     "text": [
      "HiBye\n"
     ]
    }
   ],
   "source": [
    "print(\"Hi\", end=\"\")\n",
    "print(\"Bye\")"
   ]
  },
  {
   "cell_type": "code",
   "execution_count": 13,
   "metadata": {},
   "outputs": [
    {
     "name": "stdout",
     "output_type": "stream",
     "text": [
      "      #\n",
      "     ###\n",
      "    #####\n",
      "   #######\n",
      "  #########\n"
     ]
    }
   ],
   "source": [
    "n = 5\n",
    "for i in range(n + 1):\n",
    "    for l in range(n - i + 1):\n",
    "        print(\" \", end=\"\")\n",
    "    for j in range(i + 1):\n",
    "        print(\"#\", end=\"\")\n",
    "    for k in range(i):\n",
    "        print(\"#\", end=\"\")\n",
    "    print()"
   ]
  },
  {
   "cell_type": "code",
   "execution_count": 14,
   "metadata": {},
   "outputs": [],
   "source": [
    "list_a = [1,2,3,4,5,6,7,8,9,10]\n",
    "\n",
    "accum = 0\n",
    "\n",
    "for i in range(len(list_a)):\n",
    "    accum += list_a[i]\n"
   ]
  },
  {
   "cell_type": "code",
   "execution_count": 16,
   "metadata": {},
   "outputs": [
    {
     "data": {
      "text/plain": [
       "5.5"
      ]
     },
     "execution_count": 16,
     "metadata": {},
     "output_type": "execute_result"
    }
   ],
   "source": [
    "accum/len(list_a)"
   ]
  }
 ],
 "metadata": {
  "kernelspec": {
   "display_name": "DL",
   "language": "python",
   "name": "python3"
  },
  "language_info": {
   "codemirror_mode": {
    "name": "ipython",
    "version": 3
   },
   "file_extension": ".py",
   "mimetype": "text/x-python",
   "name": "python",
   "nbconvert_exporter": "python",
   "pygments_lexer": "ipython3",
   "version": "3.11.9"
  }
 },
 "nbformat": 4,
 "nbformat_minor": 2
}
