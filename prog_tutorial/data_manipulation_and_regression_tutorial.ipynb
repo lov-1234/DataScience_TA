{
 "cells": [
  {
   "cell_type": "markdown",
   "id": "b91068c5",
   "metadata": {},
   "source": [
    "# Data Manipulation and Linear Regression Tutorial\n",
    "\n",
    "In this tutorial, we will work with a dataset containing variables such as age, height, degree, and years of experience to predict an individual's salary. The dataset also includes two columns with missing values (NaNs), which will help us understand how to handle missing data.\n",
    "\n",
    "### Objectives:\n",
    "1. Explore the dataset and understand its characteristics.\n",
    "2. Plot distributions and statistics for different variables.\n",
    "3. Handle missing data and explain the difference between dropping rows and columns with NaNs.\n",
    "4. Fit a basic linear regression model to predict salary based on the other features.\n",
    "5. Make predictions and interpret the results.\n"
   ]
  },
  {
   "cell_type": "code",
   "execution_count": 24,
   "id": "c8800e78",
   "metadata": {},
   "outputs": [
    {
     "data": {
      "text/html": [
       "<div>\n",
       "<style scoped>\n",
       "    .dataframe tbody tr th:only-of-type {\n",
       "        vertical-align: middle;\n",
       "    }\n",
       "\n",
       "    .dataframe tbody tr th {\n",
       "        vertical-align: top;\n",
       "    }\n",
       "\n",
       "    .dataframe thead th {\n",
       "        text-align: right;\n",
       "    }\n",
       "</style>\n",
       "<table border=\"1\" class=\"dataframe\">\n",
       "  <thead>\n",
       "    <tr style=\"text-align: right;\">\n",
       "      <th></th>\n",
       "      <th>Age</th>\n",
       "      <th>Height</th>\n",
       "      <th>Degree</th>\n",
       "      <th>Experience</th>\n",
       "      <th>Salary</th>\n",
       "      <th>AlmostNaN</th>\n",
       "      <th>SomeNaN</th>\n",
       "    </tr>\n",
       "  </thead>\n",
       "  <tbody>\n",
       "    <tr>\n",
       "      <th>0</th>\n",
       "      <td>60</td>\n",
       "      <td>178</td>\n",
       "      <td>Master</td>\n",
       "      <td>34</td>\n",
       "      <td>83441.143434</td>\n",
       "      <td>NaN</td>\n",
       "      <td>NaN</td>\n",
       "    </tr>\n",
       "    <tr>\n",
       "      <th>1</th>\n",
       "      <td>50</td>\n",
       "      <td>166</td>\n",
       "      <td>Master</td>\n",
       "      <td>13</td>\n",
       "      <td>44592.156539</td>\n",
       "      <td>NaN</td>\n",
       "      <td>58.0</td>\n",
       "    </tr>\n",
       "    <tr>\n",
       "      <th>2</th>\n",
       "      <td>36</td>\n",
       "      <td>168</td>\n",
       "      <td>PhD</td>\n",
       "      <td>30</td>\n",
       "      <td>51173.229576</td>\n",
       "      <td>NaN</td>\n",
       "      <td>76.0</td>\n",
       "    </tr>\n",
       "    <tr>\n",
       "      <th>3</th>\n",
       "      <td>64</td>\n",
       "      <td>169</td>\n",
       "      <td>PhD</td>\n",
       "      <td>6</td>\n",
       "      <td>47017.424640</td>\n",
       "      <td>NaN</td>\n",
       "      <td>76.0</td>\n",
       "    </tr>\n",
       "    <tr>\n",
       "      <th>4</th>\n",
       "      <td>29</td>\n",
       "      <td>158</td>\n",
       "      <td>PhD</td>\n",
       "      <td>8</td>\n",
       "      <td>42842.607862</td>\n",
       "      <td>NaN</td>\n",
       "      <td>56.0</td>\n",
       "    </tr>\n",
       "  </tbody>\n",
       "</table>\n",
       "</div>"
      ],
      "text/plain": [
       "   Age  Height  Degree  Experience        Salary  AlmostNaN  SomeNaN\n",
       "0   60     178  Master          34  83441.143434        NaN      NaN\n",
       "1   50     166  Master          13  44592.156539        NaN     58.0\n",
       "2   36     168     PhD          30  51173.229576        NaN     76.0\n",
       "3   64     169     PhD           6  47017.424640        NaN     76.0\n",
       "4   29     158     PhD           8  42842.607862        NaN     56.0"
      ]
     },
     "execution_count": 24,
     "metadata": {},
     "output_type": "execute_result"
    }
   ],
   "source": [
    "import pandas as pd\n",
    "\n",
    "# Load the dataset\n",
    "df = pd.read_csv('salary_prediction_dataset.csv')\n",
    "\n",
    "# Display the first few rows\n",
    "df.head()\n"
   ]
  },
  {
   "cell_type": "markdown",
   "id": "d75ee47a",
   "metadata": {},
   "source": [
    "### Step 2: Explore the Dataset\n",
    "\n",
    "Let's first look at the structure and characteristics of the dataset. We'll check for missing values, data types, and basic statistics for numerical columns.\n"
   ]
  },
  {
   "cell_type": "code",
   "execution_count": 25,
   "id": "8b5a0960",
   "metadata": {},
   "outputs": [
    {
     "data": {
      "text/plain": [
       "Age               0\n",
       "Height            0\n",
       "Degree            0\n",
       "Experience        0\n",
       "Salary            0\n",
       "AlmostNaN        80\n",
       "SomeNaN       99836\n",
       "dtype: int64"
      ]
     },
     "execution_count": 25,
     "metadata": {},
     "output_type": "execute_result"
    }
   ],
   "source": [
    "# Check for missing values\n",
    "df.isnull().sum()\n",
    "\n",
    "# Check data types\n",
    "df.info()\n",
    "\n",
    "# Display basic statistics for numerical columns\n",
    "df.describe()\n"
   ]
  },
  {
   "cell_type": "markdown",
   "id": "5ab8d865",
   "metadata": {},
   "source": [
    "### Step 3: Plot Distributions\n",
    "\n",
    "We will now plot the distributions of the numeric variables to visualize their spread. This will help us understand the range and distribution of data.\n"
   ]
  },
  {
   "cell_type": "code",
   "execution_count": 26,
   "id": "5fd7f2cd",
   "metadata": {},
   "outputs": [
    {
     "name": "stderr",
     "output_type": "stream",
     "text": [
      "/Users/lovnesh/anaconda3/envs/DL/lib/python3.11/site-packages/seaborn/_oldcore.py:1119: FutureWarning: use_inf_as_na option is deprecated and will be removed in a future version. Convert inf values to NaN before operating instead.\n",
      "  with pd.option_context('mode.use_inf_as_na', True):\n",
      "/Users/lovnesh/anaconda3/envs/DL/lib/python3.11/site-packages/seaborn/_oldcore.py:1119: FutureWarning: use_inf_as_na option is deprecated and will be removed in a future version. Convert inf values to NaN before operating instead.\n",
      "  with pd.option_context('mode.use_inf_as_na', True):\n",
      "/Users/lovnesh/anaconda3/envs/DL/lib/python3.11/site-packages/seaborn/_oldcore.py:1119: FutureWarning: use_inf_as_na option is deprecated and will be removed in a future version. Convert inf values to NaN before operating instead.\n",
      "  with pd.option_context('mode.use_inf_as_na', True):\n"
     ]
    },
    {
     "data": {
      "image/png": "[encoded data removed]",
      "text/plain": [
       "<Figure size 1200x600 with 3 Axes>"
      ]
     },
     "metadata": {},
     "output_type": "display_data"
    }
   ],
   "source": [
    "import matplotlib.pyplot as plt\n",
    "import seaborn as sns\n",
    "\n",
    "# Plot distributions for Age, Height, and Salary\n",
    "plt.figure(figsize=(12, 6))\n",
    "\n",
    "plt.subplot(1, 3, 1)\n",
    "sns.histplot(df['Age'], kde=True)\n",
    "plt.title('Age Distribution')\n",
    "\n",
    "plt.subplot(1, 3, 2)\n",
    "sns.histplot(df['Height'], kde=True)\n",
    "plt.title('Height Distribution')\n",
    "\n",
    "plt.subplot(1, 3, 3)\n",
    "sns.histplot(df['Salary'], kde=True)\n",
    "plt.title('Salary Distribution')\n",
    "\n",
    "plt.tight_layout()\n",
    "plt.show()\n"
   ]
  },
  {
   "cell_type": "markdown",
   "id": "4c7505ad",
   "metadata": {},
   "source": [
    "### Step 4: Handling Missing Data\n",
    "\n",
    "Our dataset contains missing values (NaNs). We'll explore how to handle them by either dropping rows or columns. We'll compare the impact of each method:\n",
    "1. Dropping the entire column if it has too many missing values.\n",
    "2. Dropping only rows with NaNs to preserve the majority of data.\n"
   ]
  },
  {
   "cell_type": "code",
   "execution_count": 27,
   "id": "85057ec0",
   "metadata": {},
   "outputs": [
    {
     "data": {
      "text/plain": [
       "((1000000, 6), (900093, 7))"
      ]
     },
     "execution_count": 27,
     "metadata": {},
     "output_type": "execute_result"
    }
   ],
   "source": [
    "# Check the percentage of missing values in each column\n",
    "(df.isnull().sum() / len(df)) * 100\n",
    "\n",
    "df_dropped_column = df.drop(columns=['SomeNaN'])\n",
    "\n",
    "# Option 2: Drop rows with NaNs\n",
    "df_dropped_rows = df.dropna()\n",
    "\n",
    "# Check the shape after dropping\n",
    "df_dropped_column.shape, df_dropped_rows.shape\n"
   ]
  },
  {
   "cell_type": "markdown",
   "id": "d60f762a",
   "metadata": {},
   "source": [
    "### Step 5: Linear Regression\n",
    "\n",
    "Now that we have handled missing data, we can proceed to fit a linear regression model to predict salary based on features such as age, height, degree, and experience. We'll start by encoding categorical variables and then fit the model.\n"
   ]
  },
  {
   "cell_type": "code",
   "execution_count": 28,
   "id": "8ab247da",
   "metadata": {},
   "outputs": [
    {
     "name": "stderr",
     "output_type": "stream",
     "text": [
      "/Users/lovnesh/anaconda3/envs/DL/lib/python3.11/site-packages/sklearn/preprocessing/_encoders.py:868: FutureWarning: `sparse` was renamed to `sparse_output` in version 1.2 and will be removed in 1.4. `sparse_output` is ignored unless you leave `sparse` to its default value.\n",
      "  warnings.warn(\n"
     ]
    }
   ],
   "source": [
    "from sklearn.linear_model import LinearRegression\n",
    "from sklearn.model_selection import train_test_split\n",
    "from sklearn.preprocessing import OneHotEncoder\n",
    "\n",
    "# Drop rows with NaNs for simplicity\n",
    "df_clean = df.drop(columns=['SomeNaN']).dropna()\n",
    "\n",
    "# One-hot encode the 'Degree' column\n",
    "encoder = OneHotEncoder(drop='first', sparse=False)\n",
    "degree_encoded = encoder.fit_transform(df_clean[['Degree']])\n",
    "\n",
    "# Create a DataFrame for the encoded degree\n",
    "degree_df = pd.DataFrame(\n",
    "    degree_encoded, columns=encoder.get_feature_names_out(['Degree']))\n",
    "\n",
    "# Combine with the original data\n",
    "df_clean_encoded = pd.concat(\n",
    "    [df_clean.drop(columns=['Degree']), degree_df], axis=1)\n",
    "\n",
    "# Define features and target variable\n",
    "X = df_clean_encoded.drop(columns=['Salary'])\n",
    "y = df_clean_encoded['Salary']\n",
    "\n",
    "# Split into training and test sets\n",
    "X_train, X_test, y_train, y_test = train_test_split(\n",
    "    X, y, test_size=0.2, random_state=42)"
   ]
  },
  {
   "cell_type": "code",
   "execution_count": 21,
   "id": "6c883cf4",
   "metadata": {},
   "outputs": [
    {
     "data": {
      "text/html": [
       "<div>\n",
       "<style scoped>\n",
       "    .dataframe tbody tr th:only-of-type {\n",
       "        vertical-align: middle;\n",
       "    }\n",
       "\n",
       "    .dataframe tbody tr th {\n",
       "        vertical-align: top;\n",
       "    }\n",
       "\n",
       "    .dataframe thead th {\n",
       "        text-align: right;\n",
       "    }\n",
       "</style>\n",
       "<table border=\"1\" class=\"dataframe\">\n",
       "  <thead>\n",
       "    <tr style=\"text-align: right;\">\n",
       "      <th></th>\n",
       "      <th>Age</th>\n",
       "      <th>Height</th>\n",
       "      <th>Experience</th>\n",
       "      <th>AlmostNaN</th>\n",
       "      <th>Degree_Master</th>\n",
       "      <th>Degree_PhD</th>\n",
       "    </tr>\n",
       "  </thead>\n",
       "  <tbody>\n",
       "    <tr>\n",
       "      <th>566933</th>\n",
       "      <td>53.0</td>\n",
       "      <td>154.0</td>\n",
       "      <td>38.0</td>\n",
       "      <td>69.0</td>\n",
       "      <td>0.0</td>\n",
       "      <td>1.0</td>\n",
       "    </tr>\n",
       "    <tr>\n",
       "      <th>382391</th>\n",
       "      <td>28.0</td>\n",
       "      <td>160.0</td>\n",
       "      <td>25.0</td>\n",
       "      <td>57.0</td>\n",
       "      <td>1.0</td>\n",
       "      <td>0.0</td>\n",
       "    </tr>\n",
       "    <tr>\n",
       "      <th>241599</th>\n",
       "      <td>35.0</td>\n",
       "      <td>186.0</td>\n",
       "      <td>26.0</td>\n",
       "      <td>72.0</td>\n",
       "      <td>0.0</td>\n",
       "      <td>1.0</td>\n",
       "    </tr>\n",
       "    <tr>\n",
       "      <th>719300</th>\n",
       "      <td>25.0</td>\n",
       "      <td>158.0</td>\n",
       "      <td>19.0</td>\n",
       "      <td>69.0</td>\n",
       "      <td>0.0</td>\n",
       "      <td>0.0</td>\n",
       "    </tr>\n",
       "    <tr>\n",
       "      <th>905798</th>\n",
       "      <td>62.0</td>\n",
       "      <td>155.0</td>\n",
       "      <td>9.0</td>\n",
       "      <td>90.0</td>\n",
       "      <td>0.0</td>\n",
       "      <td>1.0</td>\n",
       "    </tr>\n",
       "    <tr>\n",
       "      <th>...</th>\n",
       "      <td>...</td>\n",
       "      <td>...</td>\n",
       "      <td>...</td>\n",
       "      <td>...</td>\n",
       "      <td>...</td>\n",
       "      <td>...</td>\n",
       "    </tr>\n",
       "    <tr>\n",
       "      <th>259258</th>\n",
       "      <td>62.0</td>\n",
       "      <td>168.0</td>\n",
       "      <td>17.0</td>\n",
       "      <td>54.0</td>\n",
       "      <td>0.0</td>\n",
       "      <td>1.0</td>\n",
       "    </tr>\n",
       "    <tr>\n",
       "      <th>365918</th>\n",
       "      <td>37.0</td>\n",
       "      <td>189.0</td>\n",
       "      <td>7.0</td>\n",
       "      <td>77.0</td>\n",
       "      <td>0.0</td>\n",
       "      <td>1.0</td>\n",
       "    </tr>\n",
       "    <tr>\n",
       "      <th>132012</th>\n",
       "      <td>56.0</td>\n",
       "      <td>199.0</td>\n",
       "      <td>38.0</td>\n",
       "      <td>63.0</td>\n",
       "      <td>0.0</td>\n",
       "      <td>1.0</td>\n",
       "    </tr>\n",
       "    <tr>\n",
       "      <th>671235</th>\n",
       "      <td>30.0</td>\n",
       "      <td>167.0</td>\n",
       "      <td>1.0</td>\n",
       "      <td>57.0</td>\n",
       "      <td>0.0</td>\n",
       "      <td>0.0</td>\n",
       "    </tr>\n",
       "    <tr>\n",
       "      <th>122038</th>\n",
       "      <td>58.0</td>\n",
       "      <td>187.0</td>\n",
       "      <td>8.0</td>\n",
       "      <td>86.0</td>\n",
       "      <td>1.0</td>\n",
       "      <td>0.0</td>\n",
       "    </tr>\n",
       "  </tbody>\n",
       "</table>\n",
       "<p>799867 rows × 6 columns</p>\n",
       "</div>"
      ],
      "text/plain": [
       "         Age  Height  Experience  AlmostNaN  Degree_Master  Degree_PhD\n",
       "566933  53.0   154.0        38.0       69.0            0.0         1.0\n",
       "382391  28.0   160.0        25.0       57.0            1.0         0.0\n",
       "241599  35.0   186.0        26.0       72.0            0.0         1.0\n",
       "719300  25.0   158.0        19.0       69.0            0.0         0.0\n",
       "905798  62.0   155.0         9.0       90.0            0.0         1.0\n",
       "...      ...     ...         ...        ...            ...         ...\n",
       "259258  62.0   168.0        17.0       54.0            0.0         1.0\n",
       "365918  37.0   189.0         7.0       77.0            0.0         1.0\n",
       "132012  56.0   199.0        38.0       63.0            0.0         1.0\n",
       "671235  30.0   167.0         1.0       57.0            0.0         0.0\n",
       "122038  58.0   187.0         8.0       86.0            1.0         0.0\n",
       "\n",
       "[799867 rows x 6 columns]"
      ]
     },
     "execution_count": 21,
     "metadata": {},
     "output_type": "execute_result"
    }
   ],
   "source": [
    "X_train.dropna()"
   ]
  },
  {
   "cell_type": "code",
   "execution_count": 29,
   "id": "abefd070",
   "metadata": {},
   "outputs": [
    {
     "name": "stderr",
     "output_type": "stream",
     "text": [
      "/Users/lovnesh/anaconda3/envs/DL/lib/python3.11/site-packages/sklearn/preprocessing/_encoders.py:868: FutureWarning: `sparse` was renamed to `sparse_output` in version 1.2 and will be removed in 1.4. `sparse_output` is ignored unless you leave `sparse` to its default value.\n",
      "  warnings.warn(\n"
     ]
    },
    {
     "data": {
      "text/plain": [
       "0.5884573591698521"
      ]
     },
     "execution_count": 29,
     "metadata": {},
     "output_type": "execute_result"
    }
   ],
   "source": [
    "from sklearn.linear_model import LinearRegression\n",
    "from sklearn.model_selection import train_test_split\n",
    "from sklearn.preprocessing import OneHotEncoder\n",
    "\n",
    "# Drop rows with NaNs for simplicity\n",
    "df_clean = df.drop(columns=['SomeNaN']).dropna()\n",
    "\n",
    "# One-hot encode the 'Degree' column\n",
    "encoder = OneHotEncoder(drop='first', sparse=False)\n",
    "degree_encoded = encoder.fit_transform(df_clean[['Degree']])\n",
    "\n",
    "# Create a DataFrame for the encoded degree\n",
    "degree_df = pd.DataFrame(degree_encoded, columns=encoder.get_feature_names_out(['Degree']))\n",
    "\n",
    "# Combine with the original data\n",
    "df_clean_encoded = pd.concat([df_clean.drop(columns=['Degree']), degree_df], axis=1).dropna()\n",
    "\n",
    "# Define features and target variable\n",
    "X = df_clean_encoded.drop(columns=['Salary'])\n",
    "y = df_clean_encoded['Salary']\n",
    "\n",
    "# Split into training and test sets\n",
    "X_train, X_test, y_train, y_test = train_test_split(X, y, test_size=0.2, random_state=42)\n",
    "\n",
    "# Initialize and train the model\n",
    "model = LinearRegression()\n",
    "model.fit(X_train, y_train)\n",
    "\n",
    "# Make predictions\n",
    "y_pred = model.predict(X_test)\n",
    "\n",
    "# Evaluate the model\n",
    "model.score(X_test, y_test)"
   ]
  },
  {
   "cell_type": "code",
   "execution_count": 44,
   "id": "876979d3",
   "metadata": {},
   "outputs": [
    {
     "data": {
      "text/html": [
       "<div>\n",
       "<style scoped>\n",
       "    .dataframe tbody tr th:only-of-type {\n",
       "        vertical-align: middle;\n",
       "    }\n",
       "\n",
       "    .dataframe tbody tr th {\n",
       "        vertical-align: top;\n",
       "    }\n",
       "\n",
       "    .dataframe thead th {\n",
       "        text-align: right;\n",
       "    }\n",
       "</style>\n",
       "<table border=\"1\" class=\"dataframe\">\n",
       "  <thead>\n",
       "    <tr style=\"text-align: right;\">\n",
       "      <th></th>\n",
       "      <th>Age</th>\n",
       "      <th>Height</th>\n",
       "      <th>Experience</th>\n",
       "      <th>AlmostNaN</th>\n",
       "      <th>Degree_Master</th>\n",
       "      <th>Degree_PhD</th>\n",
       "    </tr>\n",
       "  </thead>\n",
       "  <tbody>\n",
       "    <tr>\n",
       "      <th>332982</th>\n",
       "      <td>34.0</td>\n",
       "      <td>166.0</td>\n",
       "      <td>23.0</td>\n",
       "      <td>84.0</td>\n",
       "      <td>1.0</td>\n",
       "      <td>0.0</td>\n",
       "    </tr>\n",
       "  </tbody>\n",
       "</table>\n",
       "</div>"
      ],
      "text/plain": [
       "         Age  Height  Experience  AlmostNaN  Degree_Master  Degree_PhD\n",
       "332982  34.0   166.0        23.0       84.0            1.0         0.0"
      ]
     },
     "execution_count": 44,
     "metadata": {},
     "output_type": "execute_result"
    }
   ],
   "source": [
    "X_test[:1]"
   ]
  },
  {
   "cell_type": "code",
   "execution_count": 43,
   "id": "e5c7795c",
   "metadata": {},
   "outputs": [
    {
     "data": {
      "text/plain": [
       "array([55009.37091259])"
      ]
     },
     "execution_count": 43,
     "metadata": {},
     "output_type": "execute_result"
    }
   ],
   "source": [
    "model.predict(X_test[:1])"
   ]
  },
  {
   "cell_type": "markdown",
   "id": "a80619b0",
   "metadata": {},
   "source": [
    "### Conclusion\n",
    "\n",
    "In this tutorial, we have:\n",
    "1. Explored a dataset with different features, including handling missing data.\n",
    "2. Visualized the distributions of important variables.\n",
    "3. Fit a basic linear regression model to predict salary based on age, height, degree, and experience.\n",
    "4. Discussed the impact of handling missing data on the model and its performance.\n",
    "\n",
    "This tutorial is a great starting point to further explore machine learning models and data science techniques. Stay curious and keep learning!\n"
   ]
  }
 ],
 "metadata": {
  "kernelspec": {
   "display_name": "DL",
   "language": "python",
   "name": "python3"
  },
  "language_info": {
   "codemirror_mode": {
    "name": "ipython",
    "version": 3
   },
   "file_extension": ".py",
   "mimetype": "text/x-python",
   "name": "python",
   "nbconvert_exporter": "python",
   "pygments_lexer": "ipython3",
   "version": "3.11.9"
  }
 },
 "nbformat": 4,
 "nbformat_minor": 5
}
