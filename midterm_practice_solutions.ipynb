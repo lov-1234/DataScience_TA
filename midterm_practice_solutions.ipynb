{
 "cells": [
  {
   "cell_type": "markdown",
   "id": "8c833618",
   "metadata": {},
   "source": [
    "# Midterm Practice Exam Solutions\n",
    "## Introduction to Data Science"
   ]
  },
  {
   "cell_type": "markdown",
   "id": "3b2eba4a",
   "metadata": {},
   "source": [
    "### Question 1a: Difference Between Population and Sample\n",
    "**Population:**\n",
    "The entire set of individuals or items of interest in a study.\n",
    "**Sample:**\n",
    "A subset of the population used for analysis.\n"
   ]
  },
  {
   "cell_type": "markdown",
   "id": "b82f4caa",
   "metadata": {},
   "source": [
    "### Question 1b: Difference Between Simple Random Sampling and Stratified Random Sampling\n",
    "**Simple Random Sampling (SRS):**\n",
    "Each member of the population has an equal chance of being selected.\n",
    "\n",
    "**Stratified Random Sampling:**\n",
    "The population is divided into subgroups, and samples are taken from each.\n",
    "\n",
    "**Which is better?**\n",
    "Stratified sampling is usually better if the population contains distinct subgroups, as it ensures better representation."
   ]
  },
  {
   "cell_type": "markdown",
   "id": "9023e063",
   "metadata": {},
   "source": [
    "### Question 2a: Hypothetical Data Record Table\n",
    "| Plant ID | Type of Plant | Survival Time (days) | Alive/Dead |\n",
    "|----------|---------------|----------------------|------------|\n",
    "| 1        | A             | 45                   | Dead       |\n",
    "| 2        | A             | 45                   | Dead       |\n",
    "| 3        | A             | 43                   | Dead       |\n",
    "| 4        | B             | 40                   | Dead       |\n",
    "| 5        | B             | 44                   | Dead       |\n",
    "| 6        | B             | 45                   | Dead       |\n"
   ]
  },
  {
   "cell_type": "markdown",
   "id": "b4c0eb09",
   "metadata": {},
   "source": [
    "### Question 2b: Statistical Units and Variables\n",
    "- **Statistical units:** The individual plants.\n",
    "- **Variables:**\n",
    "  - Type of plant (nominal categorical)\n",
    "  - Survival time (continuous numerical)\n",
    "  - Alive/Dead (nominal categorical)"
   ]
  },
  {
   "cell_type": "markdown",
   "id": "54ba55f0",
   "metadata": {},
   "source": [
    "### Question 3a: Distributions of X, Xc, and Xn\n",
    "- X: Binomial distribution with parameters n=10,000 and p (fraction with perfect pitch)\n",
    "- Xc: Binomial distribution with parameters n=5 and p (choir members)\n",
    "- Xn: Binomial distribution with parameters n=995 and p (non-choir members)\n"
   ]
  },
  {
   "cell_type": "markdown",
   "id": "fa066bd9",
   "metadata": {},
   "source": [
    "### Question 3b: Estimates of p\n",
    "- $ \\hat{p_1} = \\frac{X}{10,000} $\n",
    "- $ \\hat{p_2} = \\frac{5 \\cdot X_c + 995 \\cdot X_n}{1000} $\n"
   ]
  },
  {
   "cell_type": "markdown",
   "id": "c352a76b",
   "metadata": {},
   "source": [
    "### Question 3c: Mean and Standard Deviation\n",
    "**Mean:**\n",
    "- $ E[\\hat{p_1}] = p $\n",
    "- $ E[\\hat{p_2}] = p $\n",
    "\n",
    "**Standard Deviation:**\n",
    "- $ \\sigma_{\\hat{p_1}} = \\sqrt{\\frac{p(1 - p)}{10,000}} $\n",
    "- $ \\sigma_{\\hat{p_2}} = \\sqrt{\\frac{5 \\cdot p_c(1 - p_c) + 995 \\cdot p_n(1 - p_n)}{1000^2}} $\n"
   ]
  },
  {
   "cell_type": "markdown",
   "id": "bab4dbbe",
   "metadata": {},
   "source": [
    "### Question 3f: Calculation of Confidence Intervals\n",
    "**Pollster 1 Confidence Interval (90%):**\n",
    "- \\( 0.0019 \\pm 1.645 \\cdot 0.000435 = (0.001185, 0.002615) \\)\n",
    "\n",
    "**Pollster 2 Confidence Interval (90%):**\n",
    "- \\( 0.00201 \\pm 1.645 \\cdot 0.00167 = (0, 0.00476) \\)\n",
    "\n",
    "Since the intervals overlap, the estimates are consistent."
   ]
  }
 ],
 "metadata": {
  "language_info": {
   "name": "python"
  }
 },
 "nbformat": 4,
 "nbformat_minor": 5
}
